{
 "cells": [
  {
   "cell_type": "code",
   "execution_count": null,
   "id": "41e65530-0464-4a1f-9291-9b008c119615",
   "metadata": {},
   "outputs": [],
   "source": []
  }
 ],
 "metadata": {
  "kernelspec": {
   "display_name": "",
   "name": ""
  },
  "language_info": {
   "name": ""
  }
 },
 "nbformat": 4,
 "nbformat_minor": 5
}
